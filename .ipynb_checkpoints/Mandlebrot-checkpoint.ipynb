{
 "cells": [
  {
   "cell_type": "markdown",
   "metadata": {},
   "source": [
    "# Mandelbrot \n",
    "\n",
    "Some functions that demonstrate the use of multiprocessing and polls in Python.\n",
    "\n",
    "The function mandelbrotCalcSet reports processing time. This allows the impact of pool size and image size on processing to be assessed. \n",
    "\n",
    "The algorithm is based on the pseudocode on the Wikipedia page https://en.wikipedia.org/wiki/Mandelbrot_set"
   ]
  },
  {
   "cell_type": "code",
   "execution_count": 2,
   "metadata": {},
   "outputs": [],
   "source": [
    "import time\n",
    "import multiprocessing\n",
    "import matplotlib.pyplot as plt\n",
    "from functools import partial\n",
    "%matplotlib inline\n",
    "\n",
    "pool_size = 1 # the number of processes in the poll - this can be changed later. \n",
    "\n",
    "def mandelbrotCalcSet(h, w, max_iteration = 1000):\n",
    "    tp1 = time.time()\n",
    "    #make a helper function that better supports pool.map by using only 1 var\n",
    "    partialCalcRow = partial(mandelbrotCalcRow, h=h, w=w, max_iteration = max_iteration)\n",
    " \n",
    "    pool =multiprocessing.Pool(processes=pool_size) #creates a pool of process, controls worksers\n",
    "    #the pool.map only accepts one iterable, so use the partial function\n",
    "    #so that we only need to deal with one variable.\n",
    "    mandelImg = pool.map(partialCalcRow, range(h)) # Build the image a row at a time.\n",
    "    \n",
    "    pool.close() #we are not adding any more processes\n",
    "    pool.join() #tell it to wait until all threads are done before going on\n",
    "    \n",
    "    print(\"Overall Time:\", int(time.time()-tp1))\n",
    "    return mandelImg\n",
    "\n",
    "def mandelbrotCalcRow(yPos, h, w, max_iteration = 1000):\n",
    "    y0 = yPos * (2/float(h)) - 1 #rescale to -1 to 1\n",
    "    row = []\n",
    "    for xPos in range(w):\n",
    "        x0 = xPos * (3.5/float(w)) - 2.5 #rescale to -2.5 to 1\n",
    "        iteration, z = 0, 0 + 0j\n",
    "        c = complex(x0, y0)\n",
    "        while abs(z) < 2 and iteration < max_iteration:\n",
    "            z = z**2 + c\n",
    "            iteration += 1\n",
    "        row.append(iteration)\n",
    " \n",
    "    return row\n"
   ]
  },
  {
   "cell_type": "code",
   "execution_count": 4,
   "metadata": {},
   "outputs": [
    {
     "name": "stdout",
     "output_type": "stream",
     "text": [
      "Overall Time: 9\n"
     ]
    },
    {
     "data": {
      "image/png": "[encoded data removed]",
      "text/plain": [
       "<Figure size 432x288 with 1 Axes>"
      ]
     },
     "metadata": {
      "needs_background": "light"
     },
     "output_type": "display_data"
    }
   ],
   "source": [
    "pool_size = 2\n",
    "mandelImg = mandelbrotCalcSet(500, 500, 1000)\n",
    "plt.imshow(mandelImg)\n",
    "plt.savefig('mandelimg.png')"
   ]
  },
  {
   "cell_type": "markdown",
   "metadata": {},
   "source": [
    "Code from Timothy Wiseman's blog https://timothyawiseman.wordpress.com/2012/12/21/a-really-simple-multiprocessing-python-example/"
   ]
  }
 ],
 "metadata": {
  "kernelspec": {
   "display_name": "Python 3",
   "language": "python",
   "name": "python3"
  },
  "language_info": {
   "codemirror_mode": {
    "name": "ipython",
    "version": 3
   },
   "file_extension": ".py",
   "mimetype": "text/x-python",
   "name": "python",
   "nbconvert_exporter": "python",
   "pygments_lexer": "ipython3",
   "version": "3.8.5"
  }
 },
 "nbformat": 4,
 "nbformat_minor": 1
}
