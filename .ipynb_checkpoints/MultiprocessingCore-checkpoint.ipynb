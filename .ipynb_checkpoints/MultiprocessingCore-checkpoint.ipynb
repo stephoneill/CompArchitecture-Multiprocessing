{
 "cells": [
  {
   "cell_type": "markdown",
   "metadata": {},
   "source": [
    "# Multiprocessing using Pools \n",
    "A simple framework for assessing the impact of multiprocessing on runtime on a multi-core machine. "
   ]
  },
  {
   "cell_type": "code",
   "execution_count": 2,
   "metadata": {},
   "outputs": [
    {
     "name": "stdout",
     "output_type": "stream",
     "text": [
      "71 is a prime number\n",
      "Time: 7.82012939453125e-05\n",
      "73 is a prime number\n",
      "Time: 1.7881393432617188e-05\n",
      "61 is a prime number\n",
      "Time: 8.082389831542969e-05\n",
      "67 is a prime number\n",
      "Time: 1.3113021850585938e-05\n",
      "79 is a prime number\n",
      "Time: 1.4066696166992188e-05\n",
      "83 is a prime number\n",
      "Time: 1.3113021850585938e-05\n",
      "89 is a prime number\n",
      "Time: 1.52587890625e-05\n",
      "97 is a prime number\n",
      "Time: 1.4066696166992188e-05\n",
      "101 is a prime number\n",
      "Time: 1.71661376953125e-05\n",
      "15488801 is a prime number\n",
      "Time: 1.9170539379119873\n",
      "[61, 67, 71, 73, 79, 83, 89, 97, 101, 15488801] 2\n",
      "Results [True, True, True, True, True, True, True, True, True, True]\n",
      "Overall Time: 1\n"
     ]
    }
   ],
   "source": [
    "# from StackOverflow: https://stackoverflow.com/questions/52545512/realtime-output-from-a-shell-command-in-jupyter-notebook\n",
    "# Solution for printing the output of the verbose function in Jupyter rather than in the shell/terminal\n",
    "\n",
    "import time\n",
    "from subprocess import Popen, PIPE, STDOUT\n",
    "\n",
    "from IPython.core.magic import register_line_magic\n",
    "\n",
    "\n",
    "@register_line_magic\n",
    "def runrealcmd(command):\n",
    "    process = Popen(command, stdout=PIPE, shell=True, stderr=STDOUT, close_fds=True)\n",
    "    for line in iter(process.stdout.readline, b''):\n",
    "        print(line.rstrip().decode('utf-8'))\n",
    "    process.stdout.close()\n",
    "    process.wait()\n",
    "    \n",
    "%runrealcmd python miscFunc.py\n",
    "\n"
   ]
  },
  {
   "cell_type": "code",
   "execution_count": 9,
   "metadata": {},
   "outputs": [],
   "source": [
    "# def my_func(x):\n",
    "#     s = math.sqrt(x)\n",
    "#     return s"
   ]
  },
  {
   "cell_type": "code",
   "execution_count": 10,
   "metadata": {},
   "outputs": [],
   "source": [
    "# # This verbose version shows which process in the pool is running each task. \n",
    "# def my_func_verbose(x):\n",
    "#     s = math.sqrt(x)\n",
    "#     print(\"Task\", multiprocessing.current_process(), x, s)\n",
    "#     return s"
   ]
  },
  {
   "cell_type": "markdown",
   "metadata": {},
   "source": [
    "## A naive function for checking primes "
   ]
  },
  {
   "cell_type": "code",
   "execution_count": 11,
   "metadata": {},
   "outputs": [],
   "source": [
    "def check_prime(num):\n",
    "    t1 = time.time()\n",
    "    res = False\n",
    "    if num > 0:\n",
    "        # check for factors\n",
    "        for i in range(2,num):\n",
    "            if (num % i) == 0:\n",
    "                print(num,\"is not a prime number\")\n",
    "                print(i,\"times\",num//i,\"is\",num)\n",
    "                print(\"Time:\", int(time.time()-t1))\n",
    "                break\n",
    "        else:\n",
    "            print(num,\"is a prime number\")\n",
    "            print(\"Time:\", time.time()-t1) \n",
    "            res = True\n",
    "            # if input number is less than\n",
    "            # or equal to 1, it is not prime\n",
    "    return res\n"
   ]
  },
  {
   "cell_type": "code",
   "execution_count": 14,
   "metadata": {},
   "outputs": [
    {
     "name": "stdout",
     "output_type": "stream",
     "text": [
      "15488801 is a prime number\n",
      "Time: 6.222164154052734\n"
     ]
    },
    {
     "data": {
      "text/plain": [
       "True"
      ]
     },
     "execution_count": 14,
     "metadata": {},
     "output_type": "execute_result"
    }
   ],
   "source": [
    "check_prime(15488801)"
   ]
  },
  {
   "cell_type": "code",
   "execution_count": 13,
   "metadata": {},
   "outputs": [
    {
     "name": "stdout",
     "output_type": "stream",
     "text": [
      "15488803 is not a prime number\n",
      "11 times 1408073 is 15488803\n",
      "Time: 0\n"
     ]
    },
    {
     "data": {
      "text/plain": [
       "False"
      ]
     },
     "execution_count": 13,
     "metadata": {},
     "output_type": "execute_result"
    }
   ],
   "source": [
    "check_prime(15488803)"
   ]
  },
  {
   "cell_type": "code",
   "execution_count": null,
   "metadata": {},
   "outputs": [],
   "source": []
  }
 ],
 "metadata": {
  "kernelspec": {
   "display_name": "Python 3",
   "language": "python",
   "name": "python3"
  },
  "language_info": {
   "codemirror_mode": {
    "name": "ipython",
    "version": 3
   },
   "file_extension": ".py",
   "mimetype": "text/x-python",
   "name": "python",
   "nbconvert_exporter": "python",
   "pygments_lexer": "ipython3",
   "version": "3.8.5"
  }
 },
 "nbformat": 4,
 "nbformat_minor": 1
}
