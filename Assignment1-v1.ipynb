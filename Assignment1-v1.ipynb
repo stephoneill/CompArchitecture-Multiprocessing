{
 "cells": [
  {
   "cell_type": "code",
   "execution_count": 20,
   "metadata": {},
   "outputs": [],
   "source": [
    "import time\n",
    "import math\n",
    "import multiprocessing\n",
    "from multiprocessing import Pool\n",
    "\n",
    "def my_func(x):\n",
    "    s = math.sqrt(x)\n",
    "    return s\n",
    "\n",
    "def my_func_verbose(x):\n",
    "    s = math.sqrt(x)\n",
    "    print(\"Task\", multiprocessing.current_process(), x, s)\n",
    "    return s\n",
    "\n",
    "# A function for timing a job that uses a pool of processes.\n",
    "#  f is a function that takes a single argument\n",
    "#  data is an array of arguments on which f will be mapped\n",
    "#  pool_size is the number of processes in the pool. \n",
    "def pool_process(f, data, pool_size):\n",
    "    with multiprocessing.get_context('fork').Pool(processes=pool_size) as pool:\n",
    "        tp1 = time.time()\n",
    "        print(data, pool_size)\n",
    "        result = pool.map(f, data)       # map f to the data using the Pool of processes to do the work \n",
    "        pool.close() # No more processes\n",
    "        pool.join()  # Wait for the pool processing to complete. \n",
    "        print(\"Results\", result)\n",
    "        print(\"Overall Time:\", int(time.time()-tp1))\n",
    "        return result\n",
    "\n",
    "\n",
    "def check_prime(num):\n",
    "    t1 = time.time()\n",
    "    res = False\n",
    "    if num > 0:\n",
    "        # check for factors\n",
    "        for i in range(2,num):\n",
    "            if (num % i) == 0:\n",
    "                print(num,\"is not a prime number\")\n",
    "                print(i,\"times\",num//i,\"is\",num)\n",
    "                print(\"Time:\", int(time.time()-t1))\n",
    "                t = (time.time()-t1)    # elapsed time saved to variable\n",
    "                break\n",
    "        else:\n",
    "            print(num,\"is a prime number\")\n",
    "            print(\"Time:\", time.time()-t1) \n",
    "            t = (time.time()-t1)        # elapsed time saved to variable\n",
    "            res = True\n",
    "            # if input number is less than\n",
    "            # or equal to 1, it is not prime\n",
    "    return [res, t]\n"
   ]
  },
  {
   "cell_type": "code",
   "execution_count": 35,
   "metadata": {},
   "outputs": [
    {
     "name": "stdout",
     "output_type": "stream",
     "text": [
      "[15488801, 15488801, 15488801, 15488801, 15488801, 15488801, 15488801, 15488801, 15488801, 15488801] 2\n",
      "15488801 is a prime number\n",
      "Time: 154888012.387795925140381 \n",
      "is a prime number\n",
      "Time: 2.4570717811584473\n",
      "15488801 is a prime number\n",
      "Time: 2.083148956298828\n",
      "15488801 is a prime number\n",
      "Time: 2.2999138832092285\n",
      "15488801 is a prime number\n",
      "Time: 2.261970043182373\n",
      "15488801 is a prime number\n",
      "Time: 2.3800270557403564\n",
      "15488801 is a prime number\n",
      "Time: 2.3863179683685303\n",
      "15488801 is a prime number\n",
      "Time: 2.4649159908294678\n",
      "15488801 is a prime number\n",
      "Time: 2.028296947479248\n",
      "15488801 is a prime number\n",
      "Time: 1.9144949913024902\n",
      "Results [[True, 2.4377951622009277], [True, 2.3287570476531982], [True, 2.5086958408355713], [True, 2.1200780868530273], [True, 2.312937021255493], [True, 2.4229378700256348], [True, 2.4206230640411377], [True, 2.507899045944214], [True, 2.0551459789276123], [True, 1.9375169277191162]]\n",
      "Overall Time: 13\n"
     ]
    },
    {
     "data": {
      "text/plain": [
       "[[True, 2.4377951622009277],\n",
       " [True, 2.3287570476531982],\n",
       " [True, 2.5086958408355713],\n",
       " [True, 2.1200780868530273],\n",
       " [True, 2.312937021255493],\n",
       " [True, 2.4229378700256348],\n",
       " [True, 2.4206230640411377],\n",
       " [True, 2.507899045944214],\n",
       " [True, 2.0551459789276123],\n",
       " [True, 1.9375169277191162]]"
      ]
     },
     "execution_count": 35,
     "metadata": {},
     "output_type": "execute_result"
    }
   ],
   "source": [
    "dataRange = [15488801, 15488801, 15488801, 15488801, 15488801, 15488801, 15488801, 15488801, 15488801, 15488801] # list of known prime numbers\n",
    "\n",
    "pool_process(check_prime, dataRange, 2)"
   ]
  },
  {
   "cell_type": "code",
   "execution_count": 37,
   "metadata": {},
   "outputs": [],
   "source": [
    "# Checking the time for 1 run of the check_prime function with input: 15488801\n",
    "\n",
    "# dataRange = [15488801]\n",
    "\n",
    "def get_avg_run_time(f, num):\n",
    "    numlist = [num]   # must be in list form\n",
    "    timelist = []\n",
    "    for _ in range(5):\n",
    "        res = pool_process(f, numlist, 2)  # the ouput is a 2d array: [0][0] is True/False, [0][1] is time taken\n",
    "        timelist.append(res[0][1])\n",
    "    avg = sum(timelist)/len(timelist)\n",
    "    return avg"
   ]
  },
  {
   "cell_type": "code",
   "execution_count": 38,
   "metadata": {},
   "outputs": [],
   "source": [
    "%%capture\n",
    "num = 15488801\n",
    "cp_runtime = get_avg_run_time(check_prime, num)"
   ]
  },
  {
   "cell_type": "code",
   "execution_count": 39,
   "metadata": {},
   "outputs": [
    {
     "name": "stdout",
     "output_type": "stream",
     "text": [
      "The check_prime function takes 2.19 secs to run with input 15488801.\n"
     ]
    }
   ],
   "source": [
    "print(f'The check_prime function takes {(cp_runtime):.3g} secs to run with input {num}.')"
   ]
  },
  {
   "cell_type": "code",
   "execution_count": null,
   "metadata": {},
   "outputs": [],
   "source": []
  }
 ],
 "metadata": {
  "kernelspec": {
   "display_name": "Python 3",
   "language": "python",
   "name": "python3"
  },
  "language_info": {
   "codemirror_mode": {
    "name": "ipython",
    "version": 3
   },
   "file_extension": ".py",
   "mimetype": "text/x-python",
   "name": "python",
   "nbconvert_exporter": "python",
   "pygments_lexer": "ipython3",
   "version": "3.8.5"
  }
 },
 "nbformat": 4,
 "nbformat_minor": 4
}
