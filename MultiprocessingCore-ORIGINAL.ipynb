{
 "cells": [
  {
   "cell_type": "markdown",
   "metadata": {},
   "source": [
    "# Multiprocessing using Pools \n",
    "A simple framework for assessing the impact of multiprocessing on runtime on a multi-core machine. "
   ]
  },
  {
   "cell_type": "code",
   "execution_count": 1,
   "metadata": {},
   "outputs": [],
   "source": [
    "import time\n",
    "import math\n",
    "import multiprocessing\n",
    "from multiprocessing import Pool\n",
    "\n",
    "# A function for timing a job that uses a pool of processes.\n",
    "#  f is a function that takes a single argument\n",
    "#  data is an array of arguments on which f will be mapped\n",
    "#  pool_size is the number of processes in the pool. \n",
    "def pool_process(f, data, pool_size):\n",
    "    tp1 = time.time()\n",
    "    pool = Pool(processes=pool_size) # initialize the Pool.\n",
    "    result = pool.map(f, data)       # map f to the data using the Pool of processes to do the work \n",
    "    pool.close() # No more processes\n",
    "    pool.join()  # Wait for the pool processing to complete. \n",
    "    print(\"Results\", result)\n",
    "    print(\"Overall Time:\", int(time.time()-tp1))\n",
    " "
   ]
  },
  {
   "cell_type": "code",
   "execution_count": 2,
   "metadata": {},
   "outputs": [],
   "source": [
    "def my_func(x):\n",
    "    s = math.sqrt(x)\n",
    "    return s"
   ]
  },
  {
   "cell_type": "code",
   "execution_count": 3,
   "metadata": {},
   "outputs": [],
   "source": [
    "# This verbose version shows which process in the pool is running each task. \n",
    "def my_func_verbose(x):\n",
    "    s = math.sqrt(x)\n",
    "    print(\"Task\", multiprocessing.current_process(), x, s)\n",
    "    return s"
   ]
  },
  {
   "cell_type": "code",
   "execution_count": 4,
   "metadata": {},
   "outputs": [],
   "source": [
    "dataRange = range(10)"
   ]
  },
  {
   "cell_type": "markdown",
   "metadata": {},
   "source": [
    "Use the pool_process function to apply my_func to the data in dataRange.  \n",
    "This task is so light it requires very little processing time. "
   ]
  },
  {
   "cell_type": "code",
   "execution_count": 7,
   "metadata": {},
   "outputs": [
    {
     "name": "stdout",
     "output_type": "stream",
     "text": [
      "Task <ForkProcess(ForkPoolWorker-13, started daemon)> 2 1.4142135623730951\n",
      "Task <ForkProcess(ForkPoolWorker-12, started daemon)> 0 0.0\n",
      "Task <ForkProcess(ForkPoolWorker-12, started daemon)> 1 1.0\n",
      "Task <ForkProcess(ForkPoolWorker-13, started daemon)> 3 1.7320508075688772\n",
      "Task <ForkProcess(ForkPoolWorker-12, started daemon)> 4 2.0\n",
      "Task <ForkProcess(ForkPoolWorker-13, started daemon)> 6 2.449489742783178\n",
      "Task <ForkProcess(ForkPoolWorker-12, started daemon)> 5 2.23606797749979\n",
      "Task <ForkProcess(ForkPoolWorker-13, started daemon)> 7 2.6457513110645907\n",
      "Task <ForkProcess(ForkPoolWorker-12, started daemon)> 8 2.8284271247461903\n",
      "Task <ForkProcess(ForkPoolWorker-12, started daemon)> 9 3.0\n",
      "Results [0.0, 1.0, 1.4142135623730951, 1.7320508075688772, 2.0, 2.23606797749979, 2.449489742783178, 2.6457513110645907, 2.8284271247461903, 3.0]\n",
      "Overall Time: 0\n"
     ]
    }
   ],
   "source": [
    "#pool_process(my_func, dataRange, 1)\n",
    "pool_process(my_func_verbose, dataRange, 2)"
   ]
  },
  {
   "cell_type": "markdown",
   "metadata": {},
   "source": [
    "## A naive function for checking primes "
   ]
  },
  {
   "cell_type": "code",
   "execution_count": 8,
   "metadata": {},
   "outputs": [],
   "source": [
    "def check_prime(num):\n",
    "    t1 = time.time()\n",
    "    res = False\n",
    "    if num > 0:\n",
    "        # check for factors\n",
    "        for i in range(2,num):\n",
    "            if (num % i) == 0:\n",
    "                print(num,\"is not a prime number\")\n",
    "                print(i,\"times\",num//i,\"is\",num)\n",
    "                print(\"Time:\", int(time.time()-t1))\n",
    "                break\n",
    "        else:\n",
    "            print(num,\"is a prime number\")\n",
    "            print(\"Time:\", time.time()-t1) \n",
    "            res = True\n",
    "            # if input number is less than\n",
    "            # or equal to 1, it is not prime\n",
    "    return res\n"
   ]
  },
  {
   "cell_type": "code",
   "execution_count": 9,
   "metadata": {},
   "outputs": [
    {
     "name": "stdout",
     "output_type": "stream",
     "text": [
      "15488801 is a prime number\n",
      "Time: 1.1885192394256592\n"
     ]
    },
    {
     "data": {
      "text/plain": [
       "True"
      ]
     },
     "execution_count": 9,
     "metadata": {},
     "output_type": "execute_result"
    }
   ],
   "source": [
    "check_prime(15488801, )"
   ]
  },
  {
   "cell_type": "code",
   "execution_count": 10,
   "metadata": {},
   "outputs": [
    {
     "name": "stdout",
     "output_type": "stream",
     "text": [
      "15488803 is not a prime number\n",
      "11 times 1408073 is 15488803\n",
      "Time: 0\n"
     ]
    },
    {
     "data": {
      "text/plain": [
       "False"
      ]
     },
     "execution_count": 10,
     "metadata": {},
     "output_type": "execute_result"
    }
   ],
   "source": [
    "check_prime(15488803)"
   ]
  },
  {
   "cell_type": "code",
   "execution_count": null,
   "metadata": {},
   "outputs": [],
   "source": []
  }
 ],
 "metadata": {
  "kernelspec": {
   "display_name": "Python 3",
   "language": "python",
   "name": "python3"
  },
  "language_info": {
   "codemirror_mode": {
    "name": "ipython",
    "version": 3
   },
   "file_extension": ".py",
   "mimetype": "text/x-python",
   "name": "python",
   "nbconvert_exporter": "python",
   "pygments_lexer": "ipython3",
   "version": "3.8.5"
  }
 },
 "nbformat": 4,
 "nbformat_minor": 1
}
